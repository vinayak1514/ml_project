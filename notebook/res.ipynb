{
 "cells": [
  {
   "cell_type": "code",
   "execution_count": 8,
   "metadata": {},
   "outputs": [],
   "source": [
    "import os \n",
    "import sys \n",
    "import pandas as pd\n",
    "from src.utils import load_object\n",
    "from src.exception import CustomException"
   ]
  },
  {
   "cell_type": "code",
   "execution_count": 9,
   "metadata": {},
   "outputs": [],
   "source": [
    "class CustomData:\n",
    "    def __init__(self,\n",
    "        gender: str,\n",
    "        race_ethnicity: str,\n",
    "        parental_level_of_education:str,\n",
    "        lunch: str,\n",
    "        test_preparation_course: str,\n",
    "        reading_score: int,\n",
    "        writing_score: int):\n",
    "        self.gender = gender\n",
    "\n",
    "        self.race_ethnicity = race_ethnicity\n",
    "\n",
    "        self.parental_level_of_education = parental_level_of_education\n",
    "\n",
    "        self.lunch = lunch\n",
    "\n",
    "        self.test_preparation_course = test_preparation_course\n",
    "\n",
    "        self.reading_score = reading_score\n",
    "\n",
    "        self.writing_score = writing_score\n",
    "    def get_data_as_data_frame(self):\n",
    "        try:\n",
    "            custom_data_input_dict = {\n",
    "                \"gender\": [self.gender],\n",
    "                \"race_ethnicity\": [self.race_ethnicity],\n",
    "                \"parental_level_of_education\": [self.parental_level_of_education],\n",
    "                \"lunch\": [self.lunch],\n",
    "                \"test_preparation_course\": [self.test_preparation_course],\n",
    "                \"reading_score\": [self.reading_score],\n",
    "                \"writing_score\": [self.writing_score],\n",
    "            }\n",
    "\n",
    "            return pd.DataFrame(custom_data_input_dict)\n",
    "\n",
    "        except Exception as e:\n",
    "            raise CustomException(e, sys)"
   ]
  },
  {
   "cell_type": "code",
   "execution_count": 10,
   "metadata": {},
   "outputs": [],
   "source": [
    "c= CustomData('male','group1','some college','free','yes',90,80)"
   ]
  },
  {
   "cell_type": "code",
   "execution_count": 11,
   "metadata": {},
   "outputs": [
    {
     "data": {
      "text/html": [
       "<div>\n",
       "<style scoped>\n",
       "    .dataframe tbody tr th:only-of-type {\n",
       "        vertical-align: middle;\n",
       "    }\n",
       "\n",
       "    .dataframe tbody tr th {\n",
       "        vertical-align: top;\n",
       "    }\n",
       "\n",
       "    .dataframe thead th {\n",
       "        text-align: right;\n",
       "    }\n",
       "</style>\n",
       "<table border=\"1\" class=\"dataframe\">\n",
       "  <thead>\n",
       "    <tr style=\"text-align: right;\">\n",
       "      <th></th>\n",
       "      <th>gender</th>\n",
       "      <th>race_ethnicity</th>\n",
       "      <th>parental_level_of_education</th>\n",
       "      <th>lunch</th>\n",
       "      <th>test_preparation_course</th>\n",
       "      <th>reading_score</th>\n",
       "      <th>writing_score</th>\n",
       "    </tr>\n",
       "  </thead>\n",
       "  <tbody>\n",
       "    <tr>\n",
       "      <th>0</th>\n",
       "      <td>male</td>\n",
       "      <td>group1</td>\n",
       "      <td>some college</td>\n",
       "      <td>free</td>\n",
       "      <td>yes</td>\n",
       "      <td>90</td>\n",
       "      <td>80</td>\n",
       "    </tr>\n",
       "  </tbody>\n",
       "</table>\n",
       "</div>"
      ],
      "text/plain": [
       "  gender race_ethnicity parental_level_of_education lunch  \\\n",
       "0   male         group1                some college  free   \n",
       "\n",
       "  test_preparation_course  reading_score  writing_score  \n",
       "0                     yes             90             80  "
      ]
     },
     "execution_count": 11,
     "metadata": {},
     "output_type": "execute_result"
    }
   ],
   "source": [
    "c.get_data_as_data_frame()"
   ]
  },
  {
   "cell_type": "code",
   "execution_count": null,
   "metadata": {},
   "outputs": [],
   "source": []
  }
 ],
 "metadata": {
  "kernelspec": {
   "display_name": "Python 3",
   "language": "python",
   "name": "python3"
  },
  "language_info": {
   "codemirror_mode": {
    "name": "ipython",
    "version": 3
   },
   "file_extension": ".py",
   "mimetype": "text/x-python",
   "name": "python",
   "nbconvert_exporter": "python",
   "pygments_lexer": "ipython3",
   "version": "3.8.18"
  }
 },
 "nbformat": 4,
 "nbformat_minor": 2
}
